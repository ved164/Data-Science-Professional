{
  "nbformat": 4,
  "nbformat_minor": 0,
  "metadata": {
    "colab": {
      "name": "DataScienceCapstoneWeek1.ipynb",
      "provenance": [],
      "authorship_tag": "ABX9TyMJ/KWRIw0duL1aQuSFFrFN"
    },
    "kernelspec": {
      "name": "python3",
      "display_name": "Python 3"
    }
  },
  "cells": [
    {
      "cell_type": "markdown",
      "metadata": {
        "id": "UTInr5hvemiv"
      },
      "source": [
        "#Introduction:\n",
        "\n",
        "New York City is the most populous city in USA and one of the most diverse. Approximately 36 percent of the City's population is foreign born. The culture of food in New York is one to envy. Being such a multi-cultural city, one can find mouthwatering delicacies of various cuisines from around the world. New York has a plethora of establishments which are fiercely competitive. The culinary diversity of New York City ranges from Mexican, Korean, American Burgers and Soul Food to Turkish Döners and Italian to Indian food. The project explores the best locations for opening an Indian Restaurant in New York City. This information can be used to make good business decisions to open a Restaurant in the New York City or for individuals to decide which Indian Restaurant to visit based on ratings. This project can be classified as a Location-based Recommendation Project.\n",
        "\n",
        "#Problem:\n",
        "\n",
        "1. For individuals wanting to patronise a restaurant that serves Indian food, what is the best location in New York City to have Indian Food?\n",
        "2. For an invesstor wanting to get into the Restaurant Business for serving Indin cuising, what is potentially the best location in NYC to open an Indian Restaurant?"
      ]
    },
    {
      "cell_type": "markdown",
      "metadata": {
        "id": "rMd48cfknJf3"
      },
      "source": [
        "#Data:\n",
        "\n",
        "1. The dataset used is the New York City Dataset which can be found here: [https://bit.ly/3esSHgi]\n",
        "2. The data comes in JSON files and is easily readable with Pandas.\n",
        "Neighborhood, Borough, Latitude and Longitude are the attributes found in the main dataset.\n",
        "3. The data pertaining to locations and ratings of the Indian Restaurants is gained from the FourSquare Developer API.\n",
        "4. There are no missing values in the dataset.\n",
        "5. For geo-spatial visualization of the data, I have used Folium. For GeoCoding, I use GeoPy"
      ]
    },
    {
      "cell_type": "markdown",
      "metadata": {
        "id": "Q8aiBc3RnVHA"
      },
      "source": [
        "#Methodology:\n",
        "\n",
        "1. Load the dataframe from: [https://cocl.us/new_york_dataset]\n",
        "2. Convert the JSON file to an easily interpretable dataframe.\n",
        "3. Use foursquare developer API and GeoPy to locate the venues and get their ratings.\n",
        "4. Analyse and conclude."
      ]
    }
  ]
}